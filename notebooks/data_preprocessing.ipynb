# In data_preprocessing.ipynb
import sys
sys.path.append('../src')  # Add src folder to path

from data_loader import load_and_process_data

# Run the data preprocessing
load_and_process_data()
